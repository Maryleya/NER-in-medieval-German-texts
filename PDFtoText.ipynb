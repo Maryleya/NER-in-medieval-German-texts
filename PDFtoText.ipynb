{
  "nbformat": 4,
  "nbformat_minor": 0,
  "metadata": {
    "colab": {
      "provenance": []
    },
    "kernelspec": {
      "name": "python3",
      "display_name": "Python 3"
    },
    "language_info": {
      "name": "python"
    }
  },
  "cells": [
    {
      "cell_type": "markdown",
      "source": [
        "# PDFminer"
      ],
      "metadata": {
        "id": "cospiH4sDfDe"
      }
    },
    {
      "cell_type": "code",
      "execution_count": null,
      "metadata": {
        "id": "qr6uVIr9ncl0"
      },
      "outputs": [],
      "source": [
        "!pip install pdfminer.six==20181108"
      ]
    },
    {
      "cell_type": "code",
      "source": [
        "import re\n",
        "import io\n",
        "import string\n",
        "\n",
        "import pdfminer\n",
        "from pdfminer.pdfpage import PDFPage\n",
        "from pdfminer.converter import TextConverter\n",
        "from pdfminer.pdfinterp import PDFPageInterpreter\n",
        "from pdfminer.pdfinterp import PDFResourceManager\n",
        "\n",
        "laparams = pdfminer.layout.LAParams()"
      ],
      "metadata": {
        "id": "GIqHpPcEnhCU"
      },
      "execution_count": null,
      "outputs": []
    },
    {
      "cell_type": "code",
      "source": [
        "#функция для считывания pdf файл в текст\n",
        "def convert_pdf_to_txt(self):\n",
        "    extracted_text = []\n",
        "    rsrcmgr = PDFResourceManager()\n",
        "    retstr = io.StringIO()\n",
        "    codec = 'utf-8'\n",
        "    device = TextConverter(rsrcmgr, retstr, codec=codec, laparams=laparams)\n",
        "    fp = open(self, 'rb')\n",
        "    interpreter = PDFPageInterpreter(rsrcmgr, device)\n",
        "    pagenos = set()\n",
        "\n",
        "    for page in PDFPage.get_pages(fp, pagenos, check_extractable=True):\n",
        "        interpreter.process_page(page)\n",
        "        one_page = retstr.getvalue()\n",
        "        extracted_text.append(one_page)\n",
        "        one_page = ''\n",
        "        retstr.truncate(0)\n",
        "        retstr.seek(0)\n",
        "\n",
        "    fp.close()\n",
        "    device.close()\n",
        "\n",
        "    retstr.close()\n",
        "    return extracted_text"
      ],
      "metadata": {
        "id": "UpS9JPJOxQ70"
      },
      "execution_count": null,
      "outputs": []
    },
    {
      "cell_type": "markdown",
      "source": [
        "### Alpharts Tod"
      ],
      "metadata": {
        "id": "XhxT7Akpn6wX"
      }
    },
    {
      "cell_type": "code",
      "source": [
        "def clean_text_alpharts_tod(extracted_text):\n",
        "    clean_text = []\n",
        "    for i in extracted_text:\n",
        "        #перенос строки\n",
        "        s = re.sub(\"\\n\", \" \", i)\n",
        "\n",
        "        #сноски, начинающиеся с цифр\n",
        "        s = re.sub(\"\\d+ \\w+:.*\", \"\", s)\n",
        "        s = re.sub(\"\\d+:.*\", \"\", s)\n",
        "\n",
        "        #нумерация строк и страниц, скобки и название\n",
        "        s = re.sub(\"(\\d+|Æ…æ|‹Alpharts Tod›)\", \"\", s)\n",
        "\n",
        "        #остатки сносок\n",
        "        s = re.sub(\" \\w+ ?\\w+?\\.? ?\\].*\", '', s)\n",
        "        s = re.sub(\",:\\w+.*\", '', s)\n",
        "        s = re.sub(\", \\w+:.*\", '', s)\n",
        "        s = re.sub(\"\\w+\\.:.*\", '', s)\n",
        "        s = re.sub(\" v\\..*\", '', s)\n",
        "\n",
        "        #остатки от нумерации строк и лишние пробелы\n",
        "        s = re.sub(\"(\\[r(a|b)?\\]|\\[v(a|b)?\\])\", \"\", s)\n",
        "        s = re.sub(\"  \", \" \", s)\n",
        "        s = re.sub(\"   ? ? ? ? ?\", \" \", s)\n",
        "\n",
        "        #остатки сносок\n",
        "        s = re.sub(\"V. –\", \"\", s)\n",
        "        clean_text.append(s)\n",
        "    return clean_text"
      ],
      "metadata": {
        "id": "ls9VC_bPoEzW"
      },
      "execution_count": null,
      "outputs": []
    },
    {
      "cell_type": "code",
      "source": [
        "extracted_text = convert_pdf_to_txt('Alpharts_Tod.pdf')"
      ],
      "metadata": {
        "id": "NIQTFVkSxnl0"
      },
      "execution_count": null,
      "outputs": []
    },
    {
      "cell_type": "code",
      "source": [
        "clean_text = clean_text_alpharts_tod(extracted_text)"
      ],
      "metadata": {
        "id": "RU0Mk1-Rnzfn"
      },
      "execution_count": null,
      "outputs": []
    },
    {
      "cell_type": "code",
      "source": [
        "with open(r'Alpharts_Tod.txt', 'w') as fp:\n",
        "    for item in clean_text:\n",
        "        fp.write(\"%s\\n\" % item)"
      ],
      "metadata": {
        "id": "tFuYnOdRyNyX"
      },
      "execution_count": null,
      "outputs": []
    },
    {
      "cell_type": "markdown",
      "source": [
        "### Dietrich und Wenezlan"
      ],
      "metadata": {
        "id": "XBOgLovZ3__A"
      }
    },
    {
      "cell_type": "code",
      "source": [
        "def clean_text_alpharts_tod(extracted_text):\n",
        "    clean_text = []\n",
        "    for i in extracted_text:\n",
        "        #перенос строки\n",
        "        s = re.sub(\"\\n\", \" \", i)\n",
        "\n",
        "        #сноски, начинающиеся с цифр\n",
        "        s = re.sub(\"\\d+ \\w+:.*\", \"\", s)\n",
        "        s = re.sub(\"\\d+:.*\", \"\", s)\n",
        "\n",
        "        #нумерация строк и страниц и название\n",
        "        s = re.sub(\"(\\d+|‹Dietrich und Wenezlan›)\", \"\", s)\n",
        "\n",
        "        #скобки\n",
        "        s = re.sub(\"Æ\", \"(\", s)\n",
        "        s = re.sub(\"…æ\", \"...)\", s)\n",
        "        s = re.sub(\"æ\\.\", \").\", s)\n",
        "        s = re.sub(\"æ\\,\", \"),\", s)\n",
        "        s = re.sub(\"æ \", \") \", s)\n",
        "\n",
        "        #остатки сносок\n",
        "        s = re.sub(\" \\w+ ?\\w+?\\.? ?\\].*\", '', s)\n",
        "        s = re.sub(\",:\\w+.*\", '', s)\n",
        "        s = re.sub(\", \\w+:.*\", '', s)\n",
        "        s = re.sub(\"\\w+\\.:.*\", '', s)\n",
        "        s = re.sub(\" v\\..*\", '', s)\n",
        "\n",
        "        #остатки от нумерации строк и лишние пробелы\n",
        "        s = re.sub(\"\\(\\)\", \"\", s)\n",
        "        s = re.sub(\"(\\[r(a|b)?\\]|\\[v(a|b)?\\])\", \"\", s)\n",
        "        s = re.sub(\"  \", \" \", s)\n",
        "        s = re.sub(\"   ? ? ? ? ?\", \" \", s)\n",
        "\n",
        "        #остатки сносок\n",
        "        s = re.sub(\"V. –\", \"\", s)\n",
        "        s = re.sub(\"\\].*\", \"\", s)\n",
        "        clean_text.append(s)\n",
        "    return clean_text"
      ],
      "metadata": {
        "id": "f2Zp2Wqp4COX"
      },
      "execution_count": null,
      "outputs": []
    },
    {
      "cell_type": "code",
      "source": [
        "extracted_text = convert_pdf_to_txt('Dietrich_und_Wenezlan.pdf')"
      ],
      "metadata": {
        "id": "mssLpDNY4GV1"
      },
      "execution_count": null,
      "outputs": []
    },
    {
      "cell_type": "code",
      "source": [
        "clean_text = clean_text_alpharts_tod(extracted_text)"
      ],
      "metadata": {
        "id": "zAddk6Lo4Q06"
      },
      "execution_count": null,
      "outputs": []
    },
    {
      "cell_type": "code",
      "source": [
        "with open(r'Dietrich_und_Wenezlan.txt', 'w') as fp:\n",
        "    for item in clean_text:\n",
        "        fp.write(\"%s\\n\" % item)"
      ],
      "metadata": {
        "id": "1YLMmgUe4TcB"
      },
      "execution_count": null,
      "outputs": []
    },
    {
      "cell_type": "markdown",
      "source": [
        "### Dietrichs Flucht"
      ],
      "metadata": {
        "id": "LpvYsk0pX766"
      }
    },
    {
      "cell_type": "code",
      "source": [
        "def clean_text_dietrichs_flucht(extracted_text):\n",
        "    clean_text = []\n",
        "    for i in extracted_text:\n",
        "        #нумерация строк и страниц и название\n",
        "        s = re.sub(\"\\d+|<Dietric(h|b)s Flucht>|P.\", \"\", i)\n",
        "\n",
        "        #остатки от нумерации строк\n",
        "        s = re.sub(\"(\\[? ?r(a|b|c)?\\]|\\[? ?v(a|b|c)?\\])\", \"\", s)\n",
        "\n",
        "        #сноски\n",
        "        s = re.sub(\"\\w+ ?\\w+? ?\\].*\", '', s)\n",
        "        s = re.sub(\"A:.*\", '', s)\n",
        "\n",
        "        #лишние пробелы\n",
        "        s = re.sub(\"\\n\", \" \", s)\n",
        "        s = re.sub(\"  \", \" \", s)\n",
        "        s = re.sub(\"   ? ? ? ? ?\", \" \", s)\n",
        "\n",
        "        #остатки сносок\n",
        "        s = re.sub(\"V. -|¡SI\\*]|\\[Slrc¡\", \"\", s)\n",
        "        s = re.sub(\"û\", \"ü\", s)\n",
        "        clean_text.append(s)\n",
        "    return clean_text"
      ],
      "metadata": {
        "id": "u9S_tV8VX_BE"
      },
      "execution_count": null,
      "outputs": []
    },
    {
      "cell_type": "code",
      "source": [
        "extracted_text = convert_pdf_to_txt('Dietrichs_Flucht.pdf')"
      ],
      "metadata": {
        "id": "t5hd-yzkYFbb"
      },
      "execution_count": null,
      "outputs": []
    },
    {
      "cell_type": "code",
      "source": [
        "clean_text = clean_text_dietrichs_flucht(extracted_text)"
      ],
      "metadata": {
        "id": "hvTccM7bYLYl"
      },
      "execution_count": null,
      "outputs": []
    },
    {
      "cell_type": "code",
      "source": [
        "with open(r'Dietrichs_Flucht.txt', 'w') as fp:\n",
        "    for item in clean_text:\n",
        "        fp.write(\"%s\\n\" % item)"
      ],
      "metadata": {
        "id": "Vt58numhYWoo"
      },
      "execution_count": null,
      "outputs": []
    },
    {
      "cell_type": "markdown",
      "source": [
        "### Rabenschlacht"
      ],
      "metadata": {
        "id": "eWfos-Fit220"
      }
    },
    {
      "cell_type": "code",
      "source": [
        "def clean_text_rebenschlacht(extracted_text):\n",
        "    clean_text = []\n",
        "    for i in extracted_text:\n",
        "        #перенос строки\n",
        "        s = re.sub(\"\\n\", \" \", i)\n",
        "\n",
        "        #нумерация строк и страниц и название\n",
        "        s = re.sub(\"PA.|A.|P.|‹Rabenschlacht›|\\[|Str\\. \\d+ – \\d+\", \"\", s)\n",
        "\n",
        "        #остатки от нумерации строк\n",
        "        s = re.sub(\"(\\[? ?r(a|b|c)?\\]|\\[? ?v(a|b|c)?\\])\", \"\", s)\n",
        "\n",
        "        #сноски\n",
        "        s = re.sub(\"\\d+\\,\\d+ ?\\– ?\\d+\\,\\d+\\].*\", \"\", s)\n",
        "        s = re.sub(\"\\d+\", \"\", s)\n",
        "        s = re.sub(\" \\w+ ?\\w+?\\.? ?\\].*\", '', s)\n",
        "\n",
        "        #лишние пробелы\n",
        "        s = re.sub(\"  \", \" \", s)\n",
        "        s = re.sub(\"   ? ? ? ? ?\", \" \", s)\n",
        "        s = re.sub(\", ,\", \",\", s)\n",
        "        s = re.sub(\". ,\", \".\", s)\n",
        "        clean_text.append(s)\n",
        "    return clean_text"
      ],
      "metadata": {
        "id": "q1-Xs_KVt76O"
      },
      "execution_count": null,
      "outputs": []
    },
    {
      "cell_type": "code",
      "source": [
        "extracted_text = convert_pdf_to_txt('Rabenschlacht.pdf')"
      ],
      "metadata": {
        "id": "uuWhH5ZUuE74"
      },
      "execution_count": null,
      "outputs": []
    },
    {
      "cell_type": "code",
      "source": [
        "clean_text = clean_text_rebenschlacht(extracted_text)"
      ],
      "metadata": {
        "id": "SDmVO0_auJHO"
      },
      "execution_count": null,
      "outputs": []
    },
    {
      "cell_type": "code",
      "source": [
        "with open(r'Rabenschlacht.txt', 'w') as fp:\n",
        "    for item in clean_text:\n",
        "        fp.write(\"%s\\n\" % item)"
      ],
      "metadata": {
        "id": "SfUCFy3tuLl_"
      },
      "execution_count": null,
      "outputs": []
    },
    {
      "cell_type": "markdown",
      "source": [
        "### Rosengarten A"
      ],
      "metadata": {
        "id": "fhE4Ulqq2xSW"
      }
    },
    {
      "cell_type": "code",
      "source": [
        "def clean_text_rosengarten_a(extracted_text):\n",
        "    clean_text = []\n",
        "    for i in extracted_text:\n",
        "        #перенос строки\n",
        "        s = re.sub(\"\\n\", \" \", i)\n",
        "\n",
        "        #название\n",
        "        s = re.sub(\"‹Rosengarten› A\", \"\", s)\n",
        "\n",
        "        #нумерация строк и страниц\n",
        "        s = re.sub(\"\\d+\", \"\", s)\n",
        "\n",
        "        #сноски\n",
        "        s = re.sub(\"A-¾F, Str. –; A-JF, Str. – \", '', s)\n",
        "\n",
        "        #остатки от нумерации строк\n",
        "        s = re.sub(\"(\\[ ?r(a|b|c)?\\]|\\[ ?v(a|b|c)?\\])\", \"\", s)\n",
        "\n",
        "        #остатки сносок\n",
        "        s = re.sub(\",:\\w+.*\", '', s)\n",
        "        s = re.sub(\", \\w+:.*\", '', s)\n",
        "\n",
        "        #лишние пробелы\n",
        "        s = re.sub(\"  \", \" \", s)\n",
        "        s = re.sub(\"   ? ? ? ? ?\", \" \", s)\n",
        "\n",
        "        #замена умлаутов\n",
        "        s = re.sub(\"uo \", \"uo\", s)\n",
        "        s = re.sub(\"oe \", \"oe\", s)\n",
        "        s = re.sub(\"u´´|ﬄ|u˙˙\", \"ü\", s)\n",
        "        s = re.sub(\"o´´|o˙˙\", \"ö\", s)\n",
        "        s = re.sub(\" \\w+ ?–? ?\\w+? ?\\].*\", '', s)\n",
        "\n",
        "        #остатки сносок\n",
        "        s = re.sub(\"\\.\\.\", \".\", s)\n",
        "        s = re.sub(\"\\. \\,\", \".\", s)\n",
        "        s = re.sub(\"\\, \\,\", \",\", s)\n",
        "        s = re.sub(\"\\] \\,\", \"]\", s)\n",
        "        s = re.sub(\"\\» \\,\", \"»\", s)\n",
        "        clean_text.append(s)\n",
        "    return clean_text"
      ],
      "metadata": {
        "id": "4eX2mMRQ21XT"
      },
      "execution_count": null,
      "outputs": []
    },
    {
      "cell_type": "code",
      "source": [
        "extracted_text = convert_pdf_to_txt('Rosengarten_A.pdf')"
      ],
      "metadata": {
        "id": "GaetF4Gn2_Ft"
      },
      "execution_count": null,
      "outputs": []
    },
    {
      "cell_type": "code",
      "source": [
        "clean_text = clean_text_rosengarten_a(extracted_text)"
      ],
      "metadata": {
        "id": "Rw5TFFkw3HZI"
      },
      "execution_count": null,
      "outputs": []
    },
    {
      "cell_type": "code",
      "source": [
        "with open(r'Rosengarten_A.txt', 'w') as fp:\n",
        "    for item in clean_text:\n",
        "        fp.write(\"%s\\n\" % item)"
      ],
      "metadata": {
        "id": "HF1Dab0i3JpH"
      },
      "execution_count": null,
      "outputs": []
    },
    {
      "cell_type": "markdown",
      "source": [
        "### Rosengarten C"
      ],
      "metadata": {
        "id": "x2N-iFJc5oDG"
      }
    },
    {
      "cell_type": "code",
      "source": [
        "def clean_text_rosengarten_c(extracted_text):\n",
        "    clean_text = []\n",
        "    for i in extracted_text:\n",
        "        #перенос строк\n",
        "        s = re.sub(\"\\n\", \" \", i)\n",
        "\n",
        "        #название\n",
        "        s = re.sub(\"‹Rosengarten› C\", \"\", s)\n",
        "\n",
        "        #нумерация строк и страниц\n",
        "        s = re.sub(\"\\d+\", \"\", s)\n",
        "        s = re.sub(\"Str. – \", '', s)\n",
        "        s = re.sub(\"(\\[ ?r(a|b|c)?\\]|\\[ ?v(a|b|c)?\\])\", \"\", s)\n",
        "\n",
        "        #сноски\n",
        "        s = re.sub(\",:\\w+.*\", '', s)\n",
        "        s = re.sub(\", \\w+:.*\", '', s)\n",
        "\n",
        "        #лишние пробелы\n",
        "        s = re.sub(\"  \", \" \", s)\n",
        "        s = re.sub(\"   ? ? ? ? ?\", \" \", s)\n",
        "\n",
        "        #замена умлаутов\n",
        "        s = re.sub(\"uo \", \"uo\", s)\n",
        "        s = re.sub(\"oe \", \"oe\", s)\n",
        "        s = re.sub(\"u´´|ﬄ|u˙˙\", \"ü\", s)\n",
        "        s = re.sub(\"o´´|o˙˙\", \"ö\", s)\n",
        "        s = re.sub(\" \\w+ ?–? ?\\w+? ?\\].*\", '', s)\n",
        "\n",
        "        #скобки\n",
        "        s = re.sub(\"Æ\", \"‹\", s)\n",
        "        s = re.sub(\"æ\", \"›\", s)\n",
        "\n",
        "        #остатки сносок\n",
        "        s = re.sub(\"\\.\\.\", \".\", s)\n",
        "        s = re.sub(\"\\. \\,\", \".\", s)\n",
        "        s = re.sub(\"\\, \\,\", \",\", s)\n",
        "        s = re.sub(\"\\] \\,\", \"]\", s)\n",
        "        s = re.sub(\"\\» \\,\", \"»\", s)\n",
        "        clean_text.append(s)\n",
        "    return clean_text"
      ],
      "metadata": {
        "id": "G52K7PV55qH-"
      },
      "execution_count": null,
      "outputs": []
    },
    {
      "cell_type": "code",
      "source": [
        "extracted_text = convert_pdf_to_txt('Rosengarten_C.pdf')"
      ],
      "metadata": {
        "id": "yVF3VS4T5zZH"
      },
      "execution_count": null,
      "outputs": []
    },
    {
      "cell_type": "code",
      "source": [
        "clean_text = clean_text_rosengarten_c(extracted_text)"
      ],
      "metadata": {
        "id": "02q_6YJT50Zz"
      },
      "execution_count": null,
      "outputs": []
    },
    {
      "cell_type": "code",
      "source": [
        "with open(r'Rosengarten_C.txt', 'w') as fp:\n",
        "    for item in clean_text:\n",
        "        fp.write(\"%s\\n\" % item)"
      ],
      "metadata": {
        "id": "JMkY0-ae53M6"
      },
      "execution_count": null,
      "outputs": []
    },
    {
      "cell_type": "markdown",
      "source": [
        "### Rosengarten DP"
      ],
      "metadata": {
        "id": "vYmsHDAI758q"
      }
    },
    {
      "cell_type": "code",
      "source": [
        "def clean_text_rosengarten_dp(extracted_text):\n",
        "    clean_text = []\n",
        "    for i in extracted_text:\n",
        "        #перенос строки и кодировка\n",
        "        s = re.sub(\"\\n\", \" \", i)\n",
        "        s = re.sub(\"\\x0c\", \" \", s)\n",
        "\n",
        "        #название\n",
        "        s = re.sub(\"‹Rosengarten› DP\", \"\", s)\n",
        "\n",
        "        #нумерация строк и страниц\n",
        "        s = re.sub(\"\\d+\", \"\", s)\n",
        "        s = re.sub(\"D v. –, P Titel|D v. –, P v. –?\", '', s)\n",
        "        s = re.sub(\"(\\[ ?r(a|b|c)?\\]|\\[ ?v(a|b|c)?\\])\", \"\", s)\n",
        "\n",
        "        #сноски\n",
        "        s = re.sub(\",:\\w+.*\", '', s)\n",
        "\n",
        "        #лишние пробелы\n",
        "        s = re.sub(\"  \", \" \", s)\n",
        "        s = re.sub(\"   ? ? ? ? ?\", \" \", s)\n",
        "\n",
        "        #замена умлаутов\n",
        "        s = re.sub(\"uo \", \"uo\", s)\n",
        "        s = re.sub(\"oe \", \"oe\", s)\n",
        "        s = re.sub(\"u´´|ﬄ|u˙˙\", \"ü\", s)\n",
        "        s = re.sub(\"o´´|o˙˙\", \"ö\", s)\n",
        "        s = re.sub(\" \\w+ ?–? ?\\w+? ?\\].*\", '', s)\n",
        "\n",
        "        #скобки\n",
        "        s = re.sub(\"Æ\", \"‹\", s)\n",
        "        s = re.sub(\"æ\", \"›\", s)\n",
        "\n",
        "        #остатки сносок\n",
        "        s = re.sub(\"\\.\\.\", \".\", s)\n",
        "        s = re.sub(\"\\. \\,\", \".\", s)\n",
        "        s = re.sub(\"\\, \\,\", \",\", s)\n",
        "        s = re.sub(\"\\] \\,\", \"]\", s)\n",
        "        s = re.sub(\"\\» \\,\", \"»\", s)\n",
        "        clean_text.append(s)\n",
        "    return clean_text"
      ],
      "metadata": {
        "id": "OUMbw8SM75QH"
      },
      "execution_count": null,
      "outputs": []
    },
    {
      "cell_type": "code",
      "source": [
        "extracted_text = convert_pdf_to_txt('Rosengarten_DP.pdf')"
      ],
      "metadata": {
        "id": "wqAqIqoT8CB4"
      },
      "execution_count": null,
      "outputs": []
    },
    {
      "cell_type": "code",
      "source": [
        "clean_text = clean_text_rosengarten_dp(extracted_text)"
      ],
      "metadata": {
        "id": "x1uXpL0q8ENn"
      },
      "execution_count": null,
      "outputs": []
    },
    {
      "cell_type": "code",
      "source": [
        "with open(r'Rosengarten_DP.txt', 'w') as fp:\n",
        "    for item in clean_text:\n",
        "        if item != 'D v. – ':\n",
        "            fp.write(\"%s\\n\" % item)"
      ],
      "metadata": {
        "id": "7BchB5Ng8GZD"
      },
      "execution_count": null,
      "outputs": []
    },
    {
      "cell_type": "markdown",
      "source": [
        "### Dresdner Rosengarten"
      ],
      "metadata": {
        "id": "t0kar0N_9vBa"
      }
    },
    {
      "cell_type": "code",
      "source": [
        "def clean_text_dresdner_rosengarten(extracted_text):\n",
        "    clean_text = []\n",
        "    for i in extracted_text:\n",
        "        #перенос строки и кодировка\n",
        "        s = re.sub(\"\\n\", \" \", i)\n",
        "        s = re.sub(\"\\x0c\", \" \", s)\n",
        "\n",
        "        #название\n",
        "        s = re.sub(\"‹Dresdner Rosengarten›\", \"\", s)\n",
        "\n",
        "        #нумераия строк и страниц\n",
        "        s = re.sub(\"\\d+\", \"\", s)\n",
        "        s = re.sub(\"Str. – \", '', s)\n",
        "        s = re.sub(\"(\\[ ?r(a|b|c)?\\]|\\[ ?v(a|b|c)?\\])\", \"\", s)\n",
        "\n",
        "        #сноски\n",
        "        s = re.sub(\",:\\w+.*\", '', s)\n",
        "\n",
        "        #лишние пробелы\n",
        "        s = re.sub(\"  \", \" \", s)\n",
        "        s = re.sub(\"   ? ? ? ? ?\", \" \", s)\n",
        "\n",
        "        #замена умлаутов\n",
        "        s = re.sub(\"uo \", \"uo\", s)\n",
        "        s = re.sub(\"oe \", \"oe\", s)\n",
        "        s = re.sub(\"u´´|ﬄ|u˙˙\", \"ü\", s)\n",
        "        s = re.sub(\"o´´|o˙˙\", \"ö\", s)\n",
        "        s = re.sub(\" \\w+ ?–? ?\\w+? ?\\].*\", '', s)\n",
        "\n",
        "        #скобки\n",
        "        s = re.sub(\"Æ\", \"‹\", s)\n",
        "        s = re.sub(\"æ\", \"›\", s)\n",
        "\n",
        "        #остатки сносок\n",
        "        s = re.sub(\"\\.\\.\", \".\", s)\n",
        "        s = re.sub(\"\\. \\,\", \".\", s)\n",
        "        s = re.sub(\"\\, \\,\", \",\", s)\n",
        "        s = re.sub(\"\\] \\,\", \"]\", s)\n",
        "        s = re.sub(\"\\» \\,\", \"»\", s)\n",
        "        clean_text.append(s)\n",
        "    return clean_text"
      ],
      "metadata": {
        "id": "EyccxxcD90C7"
      },
      "execution_count": null,
      "outputs": []
    },
    {
      "cell_type": "code",
      "source": [
        "extracted_text = convert_pdf_to_txt('Dresdner_Rosengarten.pdf')"
      ],
      "metadata": {
        "id": "IiXPfz4Y999r"
      },
      "execution_count": null,
      "outputs": []
    },
    {
      "cell_type": "code",
      "source": [
        "clean_text = clean_text_dresdner_rosengarten(extracted_text)"
      ],
      "metadata": {
        "id": "KcgkhHMW-AzL"
      },
      "execution_count": null,
      "outputs": []
    },
    {
      "cell_type": "code",
      "source": [
        "with open(r'Dresdner_Rosengarten.txt', 'w') as fp:\n",
        "    for item in clean_text:\n",
        "        if item != 'D v. – ':\n",
        "            fp.write(\"%s\\n\" % item)"
      ],
      "metadata": {
        "id": "zsF6ho3n-HuQ"
      },
      "execution_count": null,
      "outputs": []
    },
    {
      "cell_type": "markdown",
      "source": [
        "### Nibelungenlied"
      ],
      "metadata": {
        "id": "cw4RWMwlLHVU"
      }
    },
    {
      "cell_type": "markdown",
      "source": [
        "#### gr_nib"
      ],
      "metadata": {
        "id": "umwBAtfdC0ZT"
      }
    },
    {
      "cell_type": "code",
      "source": [
        "def clean_text_gr_nib(extracted_text):\n",
        "    clean_text = []\n",
        "    for i in extracted_text:\n",
        "        #перенос строки и кодировка\n",
        "        s = re.sub(\"\\n\", \" \", i)\n",
        "        s = re.sub(\"\\xa0|\\x0c\", \" \", s)\n",
        "\n",
        "        #нумерация строк и страниц\n",
        "        s = re.sub(\"(A|B|C|D|I) \\*?\\d+A?\", \"\\n\", s)\n",
        "        s = re.sub(\"\\d+\", \" \", s)\n",
        "\n",
        "        #лишние пробелы\n",
        "        s = re.sub(\"  \", \" \", s)\n",
        "        s = re.sub(\"   ? ? ? ? ?\", \" \", s)\n",
        "        clean_text.append(s)\n",
        "    return clean_text"
      ],
      "metadata": {
        "id": "8j96mYerC4WV"
      },
      "execution_count": null,
      "outputs": []
    },
    {
      "cell_type": "markdown",
      "source": [
        "##### A"
      ],
      "metadata": {
        "id": "XJZnpmTLF3Xq"
      }
    },
    {
      "cell_type": "code",
      "source": [
        "extracted_text = convert_pdf_to_txt('gr-A_nib.pdf')"
      ],
      "metadata": {
        "id": "tanZql2DEzYb"
      },
      "execution_count": null,
      "outputs": []
    },
    {
      "cell_type": "code",
      "source": [
        "clean_text = clean_text_gr_nib(extracted_text)"
      ],
      "metadata": {
        "id": "IKcXZYctE3aG"
      },
      "execution_count": null,
      "outputs": []
    },
    {
      "cell_type": "code",
      "source": [
        "with open(r'gr-A_nib.txt', 'w') as fp:\n",
        "    for item in clean_text:\n",
        "        fp.write(\"%s\\n\" % item)"
      ],
      "metadata": {
        "id": "8VKndlB5E5GS"
      },
      "execution_count": null,
      "outputs": []
    },
    {
      "cell_type": "markdown",
      "source": [
        "##### B"
      ],
      "metadata": {
        "id": "-EYW8lIqF8Ei"
      }
    },
    {
      "cell_type": "code",
      "source": [
        "extracted_text = convert_pdf_to_txt('gr-B_nib.pdf')"
      ],
      "metadata": {
        "id": "ZJrwSkEiF2W0"
      },
      "execution_count": null,
      "outputs": []
    },
    {
      "cell_type": "code",
      "source": [
        "clean_text = clean_text_gr_nib(extracted_text)"
      ],
      "metadata": {
        "id": "__cOl9uXGAAG"
      },
      "execution_count": null,
      "outputs": []
    },
    {
      "cell_type": "code",
      "source": [
        "with open(r'gr-B_nib.txt', 'w') as fp:\n",
        "    for item in clean_text:\n",
        "        fp.write(\"%s\\n\" % item)"
      ],
      "metadata": {
        "id": "v2_sFZpCGA7o"
      },
      "execution_count": null,
      "outputs": []
    },
    {
      "cell_type": "markdown",
      "source": [
        "##### C"
      ],
      "metadata": {
        "id": "EA1r82TRG2lv"
      }
    },
    {
      "cell_type": "code",
      "source": [
        "extracted_text = convert_pdf_to_txt('gr-C_nib.pdf')"
      ],
      "metadata": {
        "id": "hNgW3dVMG4Ne"
      },
      "execution_count": null,
      "outputs": []
    },
    {
      "cell_type": "code",
      "source": [
        "clean_text = clean_text_gr_nib(extracted_text)"
      ],
      "metadata": {
        "id": "tqsDQNYVG6Kq"
      },
      "execution_count": null,
      "outputs": []
    },
    {
      "cell_type": "code",
      "source": [
        "with open(r'gr-C_nib.txt', 'w') as fp:\n",
        "    for item in clean_text:\n",
        "        fp.write(\"%s\\n\" % item)"
      ],
      "metadata": {
        "id": "o15mVXHyG7Rz"
      },
      "execution_count": null,
      "outputs": []
    },
    {
      "cell_type": "markdown",
      "source": [
        "##### D"
      ],
      "metadata": {
        "id": "HJanXcDsIB2K"
      }
    },
    {
      "cell_type": "code",
      "source": [
        "extracted_text = convert_pdf_to_txt('gr-D_nib.pdf')"
      ],
      "metadata": {
        "id": "Jd4husr-IDXx"
      },
      "execution_count": null,
      "outputs": []
    },
    {
      "cell_type": "code",
      "source": [
        "clean_text = clean_text_gr_nib(extracted_text)"
      ],
      "metadata": {
        "id": "lVufW3J8IL9L"
      },
      "execution_count": null,
      "outputs": []
    },
    {
      "cell_type": "code",
      "source": [
        "with open(r'gr-D_nib.txt', 'w') as fp:\n",
        "    for item in clean_text:\n",
        "        fp.write(\"%s\\n\" % item)"
      ],
      "metadata": {
        "id": "bwy9AJKwINWp"
      },
      "execution_count": null,
      "outputs": []
    },
    {
      "cell_type": "markdown",
      "source": [
        "##### I"
      ],
      "metadata": {
        "id": "Ha9lz812JH6M"
      }
    },
    {
      "cell_type": "code",
      "source": [
        "extracted_text = convert_pdf_to_txt('gr-I_nib.pdf')"
      ],
      "metadata": {
        "id": "rc77U0VPJJMM"
      },
      "execution_count": null,
      "outputs": []
    },
    {
      "cell_type": "code",
      "source": [
        "clean_text = clean_text_gr_nib(extracted_text)"
      ],
      "metadata": {
        "id": "b3AwcKGdJL8o"
      },
      "execution_count": null,
      "outputs": []
    },
    {
      "cell_type": "code",
      "source": [
        "with open(r'gr-I_nib.txt', 'w') as fp:\n",
        "    for item in clean_text:\n",
        "        fp.write(\"%s\\n\" % item)"
      ],
      "metadata": {
        "id": "aRmiQ2bBJNTb"
      },
      "execution_count": null,
      "outputs": []
    },
    {
      "cell_type": "markdown",
      "source": [
        "#### kl_nib"
      ],
      "metadata": {
        "id": "fBZvn90aJx7d"
      }
    },
    {
      "cell_type": "code",
      "source": [
        "def clean_text_kl_nib(extracted_text):\n",
        "    clean_text = []\n",
        "    for i in extracted_text:\n",
        "        #перенос строк и кодировка\n",
        "        s = re.sub(\"\\n\", \" \", i)\n",
        "        s = re.sub(\"\\xa0|\\x0c\", \" \", s)\n",
        "\n",
        "        #нумераия строк и страниц\n",
        "        s = re.sub(\"(a|b|d|k|n) \\*?\\d+A?\", \"\\n\", s)\n",
        "        s = re.sub(\"\\d+\", \" \", s)\n",
        "\n",
        "        #лишние пробелы\n",
        "        s = re.sub(\"  \", \" \", s)\n",
        "        s = re.sub(\"   ? ? ? ? ?\", \" \", s)\n",
        "        clean_text.append(s)\n",
        "    return clean_text"
      ],
      "metadata": {
        "id": "vqrdm5mCJz2-"
      },
      "execution_count": null,
      "outputs": []
    },
    {
      "cell_type": "markdown",
      "source": [
        "##### a"
      ],
      "metadata": {
        "id": "0EDamb4DKGB4"
      }
    },
    {
      "cell_type": "code",
      "source": [
        "extracted_text = convert_pdf_to_txt('kl-a_nib.pdf')"
      ],
      "metadata": {
        "id": "GvYPZnRPJ6C_"
      },
      "execution_count": null,
      "outputs": []
    },
    {
      "cell_type": "code",
      "source": [
        "clean_text = clean_text_kl_nib(extracted_text)"
      ],
      "metadata": {
        "id": "qjrv7B0tKAfn"
      },
      "execution_count": null,
      "outputs": []
    },
    {
      "cell_type": "code",
      "source": [
        "with open(r'kl-a_nib.txt', 'w') as fp:\n",
        "    for item in clean_text:\n",
        "        fp.write(\"%s\\n\" % item)"
      ],
      "metadata": {
        "id": "owfX8c1rKDG6"
      },
      "execution_count": null,
      "outputs": []
    },
    {
      "cell_type": "markdown",
      "source": [
        "##### b"
      ],
      "metadata": {
        "id": "sUdWMMsqKi5u"
      }
    },
    {
      "cell_type": "code",
      "source": [
        "extracted_text = convert_pdf_to_txt('kl-b_nib.pdf')"
      ],
      "metadata": {
        "id": "48lI2npDKkIG"
      },
      "execution_count": null,
      "outputs": []
    },
    {
      "cell_type": "code",
      "source": [
        "clean_text = clean_text_kl_nib(extracted_text)"
      ],
      "metadata": {
        "id": "cbJ4Z2mkKmwW"
      },
      "execution_count": null,
      "outputs": []
    },
    {
      "cell_type": "code",
      "source": [
        "with open(r'kl-b_nib.txt', 'w') as fp:\n",
        "    for item in clean_text:\n",
        "        fp.write(\"%s\\n\" % item)"
      ],
      "metadata": {
        "id": "xbX_XCnJKnsN"
      },
      "execution_count": null,
      "outputs": []
    },
    {
      "cell_type": "markdown",
      "source": [
        "##### d"
      ],
      "metadata": {
        "id": "UQ3dGh_gOlJf"
      }
    },
    {
      "cell_type": "code",
      "source": [
        "extracted_text = convert_pdf_to_txt('kl-d_nib.pdf')"
      ],
      "metadata": {
        "id": "12B2YjTsOnBX"
      },
      "execution_count": null,
      "outputs": []
    },
    {
      "cell_type": "code",
      "source": [
        "clean_text = clean_text_kl_nib(extracted_text)"
      ],
      "metadata": {
        "id": "Z0yiW17GOscz"
      },
      "execution_count": null,
      "outputs": []
    },
    {
      "cell_type": "code",
      "source": [
        "with open(r'kl-d_nib.txt', 'w') as fp:\n",
        "    for item in clean_text:\n",
        "        fp.write(\"%s\\n\" % item)"
      ],
      "metadata": {
        "id": "8XGSWi5IOuE1"
      },
      "execution_count": null,
      "outputs": []
    },
    {
      "cell_type": "markdown",
      "source": [
        "##### k"
      ],
      "metadata": {
        "id": "wzpmXp8TPonb"
      }
    },
    {
      "cell_type": "code",
      "source": [
        "extracted_text = convert_pdf_to_txt('kl-k_nib.pdf')"
      ],
      "metadata": {
        "id": "kw8rIeuwPqR8"
      },
      "execution_count": null,
      "outputs": []
    },
    {
      "cell_type": "code",
      "source": [
        "clean_text = clean_text_kl_nib(extracted_text)"
      ],
      "metadata": {
        "id": "NGNTOHXyPtma"
      },
      "execution_count": null,
      "outputs": []
    },
    {
      "cell_type": "code",
      "source": [
        "with open(r'kl-k_nib.txt', 'w') as fp:\n",
        "    for item in clean_text:\n",
        "        fp.write(\"%s\\n\" % item)"
      ],
      "metadata": {
        "id": "YgXerx1MPutl"
      },
      "execution_count": null,
      "outputs": []
    },
    {
      "cell_type": "markdown",
      "source": [
        "##### n"
      ],
      "metadata": {
        "id": "gx2BG07YQUmE"
      }
    },
    {
      "cell_type": "code",
      "source": [
        "extracted_text = convert_pdf_to_txt('kl-n_nib.pdf')"
      ],
      "metadata": {
        "id": "zeynoMlGQXmG"
      },
      "execution_count": null,
      "outputs": []
    },
    {
      "cell_type": "code",
      "source": [
        "clean_text = clean_text_kl_nib(extracted_text)"
      ],
      "metadata": {
        "id": "2OSMNMUpQbOa"
      },
      "execution_count": null,
      "outputs": []
    },
    {
      "cell_type": "code",
      "source": [
        "with open(r'kl-n_nib.txt', 'w') as fp:\n",
        "    for item in clean_text:\n",
        "        fp.write(\"%s\\n\" % item)"
      ],
      "metadata": {
        "id": "R2sFGqyoQco7"
      },
      "execution_count": null,
      "outputs": []
    },
    {
      "cell_type": "markdown",
      "source": [
        "#### Altbayerisch erzählt"
      ],
      "metadata": {
        "id": "3cSy02saeMaG"
      }
    },
    {
      "cell_type": "code",
      "source": [
        "def clean_text_alt_erz(extracted_text):\n",
        "    clean_text = []\n",
        "    for i in extracted_text:\n",
        "        #кодировка\n",
        "        s = re.sub(\"\\xad|\\x0c\", \" \", i)\n",
        "        s = re.sub(\"«\", \"n\", s)\n",
        "\n",
        "        #лишние пробелы\n",
        "        s = re.sub(\"  \", \" \", s)\n",
        "        s = re.sub(\"   ? ? ? ? ?\", \" \", s)\n",
        "        clean_text.append(s)\n",
        "    return clean_text"
      ],
      "metadata": {
        "id": "cQod6pnLeTaQ"
      },
      "execution_count": null,
      "outputs": []
    },
    {
      "cell_type": "code",
      "source": [
        "extracted_text = convert_pdf_to_txt('Nibelungenlied_Altbayerisch_erzählt.pdf')"
      ],
      "metadata": {
        "id": "VUofuTAceTS8"
      },
      "execution_count": null,
      "outputs": []
    },
    {
      "cell_type": "code",
      "source": [
        "clean_text = clean_text_alt_erz(extracted_text)"
      ],
      "metadata": {
        "id": "CTPFyu45eeVj"
      },
      "execution_count": null,
      "outputs": []
    },
    {
      "cell_type": "code",
      "source": [
        "with open(r'Nibelungenlied_Altbayerisch_erzählt.txt', 'w') as fp:\n",
        "    for item in clean_text:\n",
        "        fp.write(\"%s\\n\" % item)"
      ],
      "metadata": {
        "id": "RNj7bXHMehQy"
      },
      "execution_count": null,
      "outputs": []
    },
    {
      "cell_type": "markdown",
      "source": [
        "#### Handschrift C"
      ],
      "metadata": {
        "id": "XYnB89FWh8sv"
      }
    },
    {
      "cell_type": "code",
      "source": [
        "def clean_text_nach_C(extracted_text):\n",
        "    clean_text = []\n",
        "    for i in extracted_text:\n",
        "        #кодировка\n",
        "        s = re.sub(\"\\x0c\", \" \", i)\n",
        "        s = re.sub(\"®\", \"D\", s)\n",
        "\n",
        "        #нумераия строк и страниц\n",
        "        s = re.sub(\"\\(?\\d+\\)?\", \" \", s)\n",
        "\n",
        "        #сноски\n",
        "        s = re.sub(\"Überschrift.*\", '', s)\n",
        "        s = re.sub(\"C\\w?a?.*\", '', s)\n",
        "\n",
        "        #лишние пробелы\n",
        "        s = re.sub(\"  \", \" \", s)\n",
        "        s = re.sub(\"   ? ? ? ? ?\", \" \", s)\n",
        "        clean_text.append(s)\n",
        "    return clean_text"
      ],
      "metadata": {
        "id": "Hg-rLlSDiCwT"
      },
      "execution_count": null,
      "outputs": []
    },
    {
      "cell_type": "code",
      "source": [
        "extracted_text = convert_pdf_to_txt('Nibelungenlied_nach_der_Handschrift_C.pdf')"
      ],
      "metadata": {
        "id": "Pcz2n7C_iJk2"
      },
      "execution_count": null,
      "outputs": []
    },
    {
      "cell_type": "code",
      "source": [
        "clean_text = clean_text_nach_C(extracted_text)"
      ],
      "metadata": {
        "id": "Nr09nWziiOeG"
      },
      "execution_count": null,
      "outputs": []
    },
    {
      "cell_type": "code",
      "source": [
        "with open(r'Nibelungenlied_nach_der_Handschrift_C.txt', 'w') as fp:\n",
        "    for item in clean_text:\n",
        "        fp.write(\"%s\\n\" % item)"
      ],
      "metadata": {
        "id": "pdx3MYRniRwt"
      },
      "execution_count": null,
      "outputs": []
    },
    {
      "cell_type": "markdown",
      "source": [
        "#### Handschrift n"
      ],
      "metadata": {
        "id": "Ax_795QT1B7g"
      }
    },
    {
      "cell_type": "code",
      "source": [
        "def clean_text_nach_n(extracted_text):\n",
        "    clean_text = []\n",
        "    for i in extracted_text:\n",
        "        #нумерация строк и страниц\n",
        "        s = re.sub(\"\\d+,\\d+.*\", \"\", i)\n",
        "        s = re.sub(\"\\d+(\\]|\\|).*\", '', s)\n",
        "\n",
        "        #кодировка и скобки, остатки от нумерации\n",
        "        s = re.sub(\"\\| Γ?\", \" \", s)\n",
        "        s = re.sub(\"\\*\", \" \", s)\n",
        "        s = re.sub(\"(»|«)\", \"\\\"\", s)\n",
        "        s = re.sub(\"\\d+\\w?\", \" \", s)\n",
        "\n",
        "        #лишние пробелы\n",
        "        s = re.sub(\"  \", \" \", s)\n",
        "        s = re.sub(\"   ? ? ? ? ?\", \" \", s)\n",
        "        clean_text.append(s)\n",
        "    return clean_text"
      ],
      "metadata": {
        "id": "soWLjsgJ1Kfj"
      },
      "execution_count": null,
      "outputs": []
    },
    {
      "cell_type": "code",
      "source": [
        "extracted_text = convert_pdf_to_txt('Nibelungenlied_nach_der_Handschrift_n.pdf')"
      ],
      "metadata": {
        "id": "1-f6jNbg1SJV"
      },
      "execution_count": null,
      "outputs": []
    },
    {
      "cell_type": "code",
      "source": [
        "clean_text = clean_text_nach_n(extracted_text)"
      ],
      "metadata": {
        "id": "lXy0q4XP1V5N"
      },
      "execution_count": null,
      "outputs": []
    },
    {
      "cell_type": "code",
      "source": [
        "with open(r'Nibelungenlied_nach_der_Handschrift_n.txt', 'w') as fp:\n",
        "    for item in clean_text:\n",
        "        fp.write(\"%s\\n\" % item)"
      ],
      "metadata": {
        "id": "TB3dYwc91Y3L"
      },
      "execution_count": null,
      "outputs": []
    },
    {
      "cell_type": "markdown",
      "source": [
        "# PyPDF2"
      ],
      "metadata": {
        "id": "iWjOkBpQDiPw"
      }
    },
    {
      "cell_type": "code",
      "source": [
        "!pip install PyPDF2"
      ],
      "metadata": {
        "id": "VtEOZ3DeDlA8"
      },
      "execution_count": null,
      "outputs": []
    },
    {
      "cell_type": "code",
      "source": [
        "import re\n",
        "import PyPDF2"
      ],
      "metadata": {
        "id": "6Xsns1I4DmwZ"
      },
      "execution_count": null,
      "outputs": []
    },
    {
      "cell_type": "code",
      "source": [
        "def pdf2_to_text(name):\n",
        "    pdfFileObj = open('Wunderer.pdf', 'rb')\n",
        "\n",
        "    pdfReader = PyPDF2.PdfReader(pdfFileObj)\n",
        "\n",
        "    extracted_text = []\n",
        "    for i in range(62): #62 для Wunderer\n",
        "        pageObj = pdfReader.pages[i]\n",
        "        extracted_text.append(pageObj.extract_text())\n",
        "\n",
        "    pdfFileObj.close()\n",
        "    return extracted_text"
      ],
      "metadata": {
        "id": "UgsaXOh9D2pi"
      },
      "execution_count": null,
      "outputs": []
    },
    {
      "cell_type": "markdown",
      "source": [
        "### Wunderer"
      ],
      "metadata": {
        "id": "2-tpOlysDrxy"
      }
    },
    {
      "cell_type": "code",
      "source": [
        "def clean_text_der_wunderer(extracted_text):\n",
        "    clean_text = []\n",
        "    for i in extracted_text:\n",
        "        #перенос строки\n",
        "        s = re.sub(\"\\n\", \" \", i)\n",
        "\n",
        "        #сноски\n",
        "        s = re.sub(\"\\w\\d+,\\d+.*\", \"\", s)\n",
        "        s = re.sub(\"\\w\\d+(–\\w\\d+)?\", \"\", s)\n",
        "\n",
        "        #нумерация строк и страниц, название\n",
        "        s = re.sub(\"\\d+|Dresdener Heldenbuch|Straßburger Druck\", '', s)\n",
        "        s = re.sub(\"(\\[ ?r(a|b)?\\]|\\[ ?v(a|b)?\\])\", \"\", s)\n",
        "\n",
        "        #лишние пробелы\n",
        "        s = re.sub(\"  \", \" \", s)\n",
        "        s = re.sub(\"   ? ? ? ? ?\", \" \", s)\n",
        "        clean_text.append(s)\n",
        "    return clean_text"
      ],
      "metadata": {
        "id": "hBdJk5zdEVgc"
      },
      "execution_count": null,
      "outputs": []
    },
    {
      "cell_type": "code",
      "source": [
        "extracted_text = pdf2_to_text('Alpharts_Tod.pdf')"
      ],
      "metadata": {
        "id": "igGDBVlVDoFI"
      },
      "execution_count": null,
      "outputs": []
    },
    {
      "cell_type": "code",
      "source": [
        "clean_text = clean_text_der_wunderer(extracted_text)"
      ],
      "metadata": {
        "id": "td2lect6Ek6h"
      },
      "execution_count": null,
      "outputs": []
    },
    {
      "cell_type": "code",
      "source": [
        "with open(r'Wunderer(Dresdener Heldenbuch).txt', 'w') as fp:\n",
        "    with open(r'Wunderer(Straßburger Druck).txt', 'w') as fp2:\n",
        "        for item in range(len(clean_text)):\n",
        "            if item % 2 == 0:\n",
        "                fp.write(\"%s\\n\" % clean_text[item])\n",
        "            else:\n",
        "                fp2.write(\"%s\\n\" % clean_text[item])"
      ],
      "metadata": {
        "id": "SS5e8NwHEp7p"
      },
      "execution_count": null,
      "outputs": []
    },
    {
      "cell_type": "markdown",
      "source": [
        "# Статистика"
      ],
      "metadata": {
        "id": "QO0jWNaJ-chm"
      }
    },
    {
      "cell_type": "code",
      "source": [
        "import nltk\n",
        "import pandas as pd\n",
        "from nltk.tokenize import sent_tokenize\n",
        "\n",
        "nltk.download('punkt')"
      ],
      "metadata": {
        "id": "jyNH_d5sDash",
        "colab": {
          "base_uri": "https://localhost:8080/"
        },
        "outputId": "bfd5addb-db2d-40da-97bd-57ed01d22d4e"
      },
      "execution_count": 1,
      "outputs": [
        {
          "output_type": "stream",
          "name": "stderr",
          "text": [
            "[nltk_data] Downloading package punkt to /root/nltk_data...\n",
            "[nltk_data]   Unzipping tokenizers/punkt.zip.\n"
          ]
        },
        {
          "output_type": "execute_result",
          "data": {
            "text/plain": [
              "True"
            ]
          },
          "metadata": {},
          "execution_count": 1
        }
      ]
    },
    {
      "cell_type": "code",
      "source": [
        "stat_dict = {'Тексты': ['Alpharts Tod', 'Dietrich und Wenezlan', 'Dietrichs Flucht', 'Nibelungenlied', 'Rabensclacht', 'Rosengarten zu Worms', 'Wunderer', 'Всего'],\n",
        "             'Число предложений': [],\n",
        "             'Число словоупотреблений': [],\n",
        "             '% словоупотреблений': []\n",
        "}\n",
        "all_texts = ''\n",
        "for i in range(7):\n",
        "    path = \"/content/texts/\" + str(i) + \".txt\"\n",
        "    # читаем каждый текст в корпусе\n",
        "    with open(path) as f:\n",
        "        text = f.read()\n",
        "\n",
        "        # количество предложений\n",
        "        if i == 3:\n",
        "            number_of_sentences = len(text.split('\\n'))\n",
        "            stat_dict['Число предложений'].append(number_of_sentences)\n",
        "        else:\n",
        "            number_of_sentences = sent_tokenize(text)\n",
        "            stat_dict['Число предложений'].append(len(number_of_sentences))\n",
        "\n",
        "        # количество словоупотреблений\n",
        "        number_of_words = len(text.split())\n",
        "        stat_dict['Число словоупотреблений'].append(number_of_words)\n",
        "\n",
        "        # для общей статистики\n",
        "        all_texts += text\n",
        "\n",
        "        print(path + ' done')\n",
        "\n",
        "# количество словоупотреблений всего\n",
        "number_of_words = len(all_texts.split())\n",
        "stat_dict['Число словоупотреблений'].append(number_of_words)\n",
        "\n",
        "all_number_of_sentences = 0\n",
        "all_number_of_words = 0\n",
        "for i in range(len(stat_dict['Тексты']) - 1):\n",
        "    # количество предложений всего\n",
        "    all_number_of_sentences += stat_dict['Число предложений'][i]\n",
        "\n",
        "    # процент словоупотреблений\n",
        "    percent_words = round(stat_dict['Число словоупотреблений'][i] / stat_dict['Число словоупотреблений'][7] * 100, 1)\n",
        "    stat_dict['% словоупотреблений'].append(percent_words)\n",
        "\n",
        "stat_dict['Число предложений'].append(all_number_of_sentences)\n",
        "stat_dict['% словоупотреблений'].append(100.0)"
      ],
      "metadata": {
        "id": "rBA7c2NaExZc",
        "colab": {
          "base_uri": "https://localhost:8080/"
        },
        "outputId": "2ba6f5b9-ca33-4b19-c6c5-6978648796c8"
      },
      "execution_count": 3,
      "outputs": [
        {
          "output_type": "stream",
          "name": "stdout",
          "text": [
            "/content/texts/0.txt done\n",
            "/content/texts/1.txt done\n",
            "/content/texts/2.txt done\n",
            "/content/texts/3.txt done\n",
            "/content/texts/4.txt done\n",
            "/content/texts/5.txt done\n",
            "/content/texts/6.txt done\n"
          ]
        }
      ]
    },
    {
      "cell_type": "code",
      "source": [
        "pd.DataFrame.from_dict(stat_dict)"
      ],
      "metadata": {
        "colab": {
          "base_uri": "https://localhost:8080/",
          "height": 300
        },
        "id": "Mb3ekKEw_4MC",
        "outputId": "ac76801d-7c25-4361-d69f-f643bfa3cb17"
      },
      "execution_count": 4,
      "outputs": [
        {
          "output_type": "execute_result",
          "data": {
            "text/plain": [
              "                  Тексты  Число предложений  Число словоупотреблений  \\\n",
              "0           Alpharts Tod                913                    16813   \n",
              "1  Dietrich und Wenezlan                179                     2707   \n",
              "2       Dietrichs Flucht               4215                    68125   \n",
              "3         Nibelungenlied               2652                    83817   \n",
              "4           Rabensclacht               2792                    43008   \n",
              "5   Rosengarten zu Worms               1982                    34332   \n",
              "6               Wunderer                210                     7965   \n",
              "7                  Всего              12943                   256767   \n",
              "\n",
              "   % словоупотреблений  \n",
              "0                  6.5  \n",
              "1                  1.1  \n",
              "2                 26.5  \n",
              "3                 32.6  \n",
              "4                 16.7  \n",
              "5                 13.4  \n",
              "6                  3.1  \n",
              "7                100.0  "
            ],
            "text/html": [
              "\n",
              "  <div id=\"df-985f27ce-c643-4acc-a53c-0cf74eb9a9ca\" class=\"colab-df-container\">\n",
              "    <div>\n",
              "<style scoped>\n",
              "    .dataframe tbody tr th:only-of-type {\n",
              "        vertical-align: middle;\n",
              "    }\n",
              "\n",
              "    .dataframe tbody tr th {\n",
              "        vertical-align: top;\n",
              "    }\n",
              "\n",
              "    .dataframe thead th {\n",
              "        text-align: right;\n",
              "    }\n",
              "</style>\n",
              "<table border=\"1\" class=\"dataframe\">\n",
              "  <thead>\n",
              "    <tr style=\"text-align: right;\">\n",
              "      <th></th>\n",
              "      <th>Тексты</th>\n",
              "      <th>Число предложений</th>\n",
              "      <th>Число словоупотреблений</th>\n",
              "      <th>% словоупотреблений</th>\n",
              "    </tr>\n",
              "  </thead>\n",
              "  <tbody>\n",
              "    <tr>\n",
              "      <th>0</th>\n",
              "      <td>Alpharts Tod</td>\n",
              "      <td>913</td>\n",
              "      <td>16813</td>\n",
              "      <td>6.5</td>\n",
              "    </tr>\n",
              "    <tr>\n",
              "      <th>1</th>\n",
              "      <td>Dietrich und Wenezlan</td>\n",
              "      <td>179</td>\n",
              "      <td>2707</td>\n",
              "      <td>1.1</td>\n",
              "    </tr>\n",
              "    <tr>\n",
              "      <th>2</th>\n",
              "      <td>Dietrichs Flucht</td>\n",
              "      <td>4215</td>\n",
              "      <td>68125</td>\n",
              "      <td>26.5</td>\n",
              "    </tr>\n",
              "    <tr>\n",
              "      <th>3</th>\n",
              "      <td>Nibelungenlied</td>\n",
              "      <td>2652</td>\n",
              "      <td>83817</td>\n",
              "      <td>32.6</td>\n",
              "    </tr>\n",
              "    <tr>\n",
              "      <th>4</th>\n",
              "      <td>Rabensclacht</td>\n",
              "      <td>2792</td>\n",
              "      <td>43008</td>\n",
              "      <td>16.7</td>\n",
              "    </tr>\n",
              "    <tr>\n",
              "      <th>5</th>\n",
              "      <td>Rosengarten zu Worms</td>\n",
              "      <td>1982</td>\n",
              "      <td>34332</td>\n",
              "      <td>13.4</td>\n",
              "    </tr>\n",
              "    <tr>\n",
              "      <th>6</th>\n",
              "      <td>Wunderer</td>\n",
              "      <td>210</td>\n",
              "      <td>7965</td>\n",
              "      <td>3.1</td>\n",
              "    </tr>\n",
              "    <tr>\n",
              "      <th>7</th>\n",
              "      <td>Всего</td>\n",
              "      <td>12943</td>\n",
              "      <td>256767</td>\n",
              "      <td>100.0</td>\n",
              "    </tr>\n",
              "  </tbody>\n",
              "</table>\n",
              "</div>\n",
              "    <div class=\"colab-df-buttons\">\n",
              "\n",
              "  <div class=\"colab-df-container\">\n",
              "    <button class=\"colab-df-convert\" onclick=\"convertToInteractive('df-985f27ce-c643-4acc-a53c-0cf74eb9a9ca')\"\n",
              "            title=\"Convert this dataframe to an interactive table.\"\n",
              "            style=\"display:none;\">\n",
              "\n",
              "  <svg xmlns=\"http://www.w3.org/2000/svg\" height=\"24px\" viewBox=\"0 -960 960 960\">\n",
              "    <path d=\"M120-120v-720h720v720H120Zm60-500h600v-160H180v160Zm220 220h160v-160H400v160Zm0 220h160v-160H400v160ZM180-400h160v-160H180v160Zm440 0h160v-160H620v160ZM180-180h160v-160H180v160Zm440 0h160v-160H620v160Z\"/>\n",
              "  </svg>\n",
              "    </button>\n",
              "\n",
              "  <style>\n",
              "    .colab-df-container {\n",
              "      display:flex;\n",
              "      gap: 12px;\n",
              "    }\n",
              "\n",
              "    .colab-df-convert {\n",
              "      background-color: #E8F0FE;\n",
              "      border: none;\n",
              "      border-radius: 50%;\n",
              "      cursor: pointer;\n",
              "      display: none;\n",
              "      fill: #1967D2;\n",
              "      height: 32px;\n",
              "      padding: 0 0 0 0;\n",
              "      width: 32px;\n",
              "    }\n",
              "\n",
              "    .colab-df-convert:hover {\n",
              "      background-color: #E2EBFA;\n",
              "      box-shadow: 0px 1px 2px rgba(60, 64, 67, 0.3), 0px 1px 3px 1px rgba(60, 64, 67, 0.15);\n",
              "      fill: #174EA6;\n",
              "    }\n",
              "\n",
              "    .colab-df-buttons div {\n",
              "      margin-bottom: 4px;\n",
              "    }\n",
              "\n",
              "    [theme=dark] .colab-df-convert {\n",
              "      background-color: #3B4455;\n",
              "      fill: #D2E3FC;\n",
              "    }\n",
              "\n",
              "    [theme=dark] .colab-df-convert:hover {\n",
              "      background-color: #434B5C;\n",
              "      box-shadow: 0px 1px 3px 1px rgba(0, 0, 0, 0.15);\n",
              "      filter: drop-shadow(0px 1px 2px rgba(0, 0, 0, 0.3));\n",
              "      fill: #FFFFFF;\n",
              "    }\n",
              "  </style>\n",
              "\n",
              "    <script>\n",
              "      const buttonEl =\n",
              "        document.querySelector('#df-985f27ce-c643-4acc-a53c-0cf74eb9a9ca button.colab-df-convert');\n",
              "      buttonEl.style.display =\n",
              "        google.colab.kernel.accessAllowed ? 'block' : 'none';\n",
              "\n",
              "      async function convertToInteractive(key) {\n",
              "        const element = document.querySelector('#df-985f27ce-c643-4acc-a53c-0cf74eb9a9ca');\n",
              "        const dataTable =\n",
              "          await google.colab.kernel.invokeFunction('convertToInteractive',\n",
              "                                                    [key], {});\n",
              "        if (!dataTable) return;\n",
              "\n",
              "        const docLinkHtml = 'Like what you see? Visit the ' +\n",
              "          '<a target=\"_blank\" href=https://colab.research.google.com/notebooks/data_table.ipynb>data table notebook</a>'\n",
              "          + ' to learn more about interactive tables.';\n",
              "        element.innerHTML = '';\n",
              "        dataTable['output_type'] = 'display_data';\n",
              "        await google.colab.output.renderOutput(dataTable, element);\n",
              "        const docLink = document.createElement('div');\n",
              "        docLink.innerHTML = docLinkHtml;\n",
              "        element.appendChild(docLink);\n",
              "      }\n",
              "    </script>\n",
              "  </div>\n",
              "\n",
              "\n",
              "<div id=\"df-80205698-0d64-4c2c-82f5-c69515e9841a\">\n",
              "  <button class=\"colab-df-quickchart\" onclick=\"quickchart('df-80205698-0d64-4c2c-82f5-c69515e9841a')\"\n",
              "            title=\"Suggest charts\"\n",
              "            style=\"display:none;\">\n",
              "\n",
              "<svg xmlns=\"http://www.w3.org/2000/svg\" height=\"24px\"viewBox=\"0 0 24 24\"\n",
              "     width=\"24px\">\n",
              "    <g>\n",
              "        <path d=\"M19 3H5c-1.1 0-2 .9-2 2v14c0 1.1.9 2 2 2h14c1.1 0 2-.9 2-2V5c0-1.1-.9-2-2-2zM9 17H7v-7h2v7zm4 0h-2V7h2v10zm4 0h-2v-4h2v4z\"/>\n",
              "    </g>\n",
              "</svg>\n",
              "  </button>\n",
              "\n",
              "<style>\n",
              "  .colab-df-quickchart {\n",
              "      --bg-color: #E8F0FE;\n",
              "      --fill-color: #1967D2;\n",
              "      --hover-bg-color: #E2EBFA;\n",
              "      --hover-fill-color: #174EA6;\n",
              "      --disabled-fill-color: #AAA;\n",
              "      --disabled-bg-color: #DDD;\n",
              "  }\n",
              "\n",
              "  [theme=dark] .colab-df-quickchart {\n",
              "      --bg-color: #3B4455;\n",
              "      --fill-color: #D2E3FC;\n",
              "      --hover-bg-color: #434B5C;\n",
              "      --hover-fill-color: #FFFFFF;\n",
              "      --disabled-bg-color: #3B4455;\n",
              "      --disabled-fill-color: #666;\n",
              "  }\n",
              "\n",
              "  .colab-df-quickchart {\n",
              "    background-color: var(--bg-color);\n",
              "    border: none;\n",
              "    border-radius: 50%;\n",
              "    cursor: pointer;\n",
              "    display: none;\n",
              "    fill: var(--fill-color);\n",
              "    height: 32px;\n",
              "    padding: 0;\n",
              "    width: 32px;\n",
              "  }\n",
              "\n",
              "  .colab-df-quickchart:hover {\n",
              "    background-color: var(--hover-bg-color);\n",
              "    box-shadow: 0 1px 2px rgba(60, 64, 67, 0.3), 0 1px 3px 1px rgba(60, 64, 67, 0.15);\n",
              "    fill: var(--button-hover-fill-color);\n",
              "  }\n",
              "\n",
              "  .colab-df-quickchart-complete:disabled,\n",
              "  .colab-df-quickchart-complete:disabled:hover {\n",
              "    background-color: var(--disabled-bg-color);\n",
              "    fill: var(--disabled-fill-color);\n",
              "    box-shadow: none;\n",
              "  }\n",
              "\n",
              "  .colab-df-spinner {\n",
              "    border: 2px solid var(--fill-color);\n",
              "    border-color: transparent;\n",
              "    border-bottom-color: var(--fill-color);\n",
              "    animation:\n",
              "      spin 1s steps(1) infinite;\n",
              "  }\n",
              "\n",
              "  @keyframes spin {\n",
              "    0% {\n",
              "      border-color: transparent;\n",
              "      border-bottom-color: var(--fill-color);\n",
              "      border-left-color: var(--fill-color);\n",
              "    }\n",
              "    20% {\n",
              "      border-color: transparent;\n",
              "      border-left-color: var(--fill-color);\n",
              "      border-top-color: var(--fill-color);\n",
              "    }\n",
              "    30% {\n",
              "      border-color: transparent;\n",
              "      border-left-color: var(--fill-color);\n",
              "      border-top-color: var(--fill-color);\n",
              "      border-right-color: var(--fill-color);\n",
              "    }\n",
              "    40% {\n",
              "      border-color: transparent;\n",
              "      border-right-color: var(--fill-color);\n",
              "      border-top-color: var(--fill-color);\n",
              "    }\n",
              "    60% {\n",
              "      border-color: transparent;\n",
              "      border-right-color: var(--fill-color);\n",
              "    }\n",
              "    80% {\n",
              "      border-color: transparent;\n",
              "      border-right-color: var(--fill-color);\n",
              "      border-bottom-color: var(--fill-color);\n",
              "    }\n",
              "    90% {\n",
              "      border-color: transparent;\n",
              "      border-bottom-color: var(--fill-color);\n",
              "    }\n",
              "  }\n",
              "</style>\n",
              "\n",
              "  <script>\n",
              "    async function quickchart(key) {\n",
              "      const quickchartButtonEl =\n",
              "        document.querySelector('#' + key + ' button');\n",
              "      quickchartButtonEl.disabled = true;  // To prevent multiple clicks.\n",
              "      quickchartButtonEl.classList.add('colab-df-spinner');\n",
              "      try {\n",
              "        const charts = await google.colab.kernel.invokeFunction(\n",
              "            'suggestCharts', [key], {});\n",
              "      } catch (error) {\n",
              "        console.error('Error during call to suggestCharts:', error);\n",
              "      }\n",
              "      quickchartButtonEl.classList.remove('colab-df-spinner');\n",
              "      quickchartButtonEl.classList.add('colab-df-quickchart-complete');\n",
              "    }\n",
              "    (() => {\n",
              "      let quickchartButtonEl =\n",
              "        document.querySelector('#df-80205698-0d64-4c2c-82f5-c69515e9841a button');\n",
              "      quickchartButtonEl.style.display =\n",
              "        google.colab.kernel.accessAllowed ? 'block' : 'none';\n",
              "    })();\n",
              "  </script>\n",
              "</div>\n",
              "    </div>\n",
              "  </div>\n"
            ],
            "application/vnd.google.colaboratory.intrinsic+json": {
              "type": "dataframe",
              "summary": "{\n  \"name\": \"pd\",\n  \"rows\": 8,\n  \"fields\": [\n    {\n      \"column\": \"\\u0422\\u0435\\u043a\\u0441\\u0442\\u044b\",\n      \"properties\": {\n        \"dtype\": \"string\",\n        \"num_unique_values\": 8,\n        \"samples\": [\n          \"Dietrich und Wenezlan\",\n          \"Rosengarten zu Worms\",\n          \"Alpharts Tod\"\n        ],\n        \"semantic_type\": \"\",\n        \"description\": \"\"\n      }\n    },\n    {\n      \"column\": \"\\u0427\\u0438\\u0441\\u043b\\u043e \\u043f\\u0440\\u0435\\u0434\\u043b\\u043e\\u0436\\u0435\\u043d\\u0438\\u0439\",\n      \"properties\": {\n        \"dtype\": \"number\",\n        \"std\": 4160,\n        \"min\": 179,\n        \"max\": 12943,\n        \"num_unique_values\": 8,\n        \"samples\": [\n          179,\n          1982,\n          913\n        ],\n        \"semantic_type\": \"\",\n        \"description\": \"\"\n      }\n    },\n    {\n      \"column\": \"\\u0427\\u0438\\u0441\\u043b\\u043e \\u0441\\u043b\\u043e\\u0432\\u043e\\u0443\\u043f\\u043e\\u0442\\u0440\\u0435\\u0431\\u043b\\u0435\\u043d\\u0438\\u0439\",\n      \"properties\": {\n        \"dtype\": \"number\",\n        \"std\": 82818,\n        \"min\": 2707,\n        \"max\": 256767,\n        \"num_unique_values\": 8,\n        \"samples\": [\n          2707,\n          34332,\n          16813\n        ],\n        \"semantic_type\": \"\",\n        \"description\": \"\"\n      }\n    },\n    {\n      \"column\": \"% \\u0441\\u043b\\u043e\\u0432\\u043e\\u0443\\u043f\\u043e\\u0442\\u0440\\u0435\\u0431\\u043b\\u0435\\u043d\\u0438\\u0439\",\n      \"properties\": {\n        \"dtype\": \"number\",\n        \"std\": 32.25241685296069,\n        \"min\": 1.1,\n        \"max\": 100.0,\n        \"num_unique_values\": 8,\n        \"samples\": [\n          1.1,\n          13.4,\n          6.5\n        ],\n        \"semantic_type\": \"\",\n        \"description\": \"\"\n      }\n    }\n  ]\n}"
            }
          },
          "metadata": {},
          "execution_count": 4
        }
      ]
    },
    {
      "cell_type": "code",
      "source": [],
      "metadata": {
        "id": "PycIYjqDyhWf"
      },
      "execution_count": null,
      "outputs": []
    }
  ]
}